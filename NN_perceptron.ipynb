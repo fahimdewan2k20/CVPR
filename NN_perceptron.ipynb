{
 "metadata": {
  "language_info": {
   "codemirror_mode": {
    "name": "ipython",
    "version": 3
   },
   "file_extension": ".py",
   "mimetype": "text/x-python",
   "name": "python",
   "nbconvert_exporter": "python",
   "pygments_lexer": "ipython3",
   "version": "3.8.2"
  },
  "orig_nbformat": 2,
  "kernelspec": {
   "name": "python3",
   "display_name": "Python 3.8.2 64-bit",
   "metadata": {
    "interpreter": {
     "hash": "5edc29c2ed010d6458d71a83433b383a96a8cbd3efe8531bc90c4b8a5b8bcec9"
    }
   }
  }
 },
 "nbformat": 4,
 "nbformat_minor": 2,
 "cells": [
  {
   "source": [
    "import matplotlib.pyplot as plt\n",
    "import random\n",
    "import math\n",
    "import numpy as np\n",
    "from IPython import display\n",
    "import pandas as pd\n",
    "from scipy.signal import savgol_filter\n",
    "\n",
    "df = pd.read_csv('data.csv')\n",
    "df.head()\n",
    "\n",
    "X1 = df[\"X1\"].values.tolist()\n",
    "X2 = df[\"X2\"].values.tolist()\n",
    "Y = df[\"Y\"].values.tolist()"
   ],
   "cell_type": "code",
   "metadata": {},
   "execution_count": 73,
   "outputs": []
  },
  {
   "cell_type": "code",
   "execution_count": 74,
   "metadata": {},
   "outputs": [
    {
     "output_type": "stream",
     "name": "stdout",
     "text": [
      "Weights: [0.8672881308762053, 0.44382387145287583], Bias: 0.28791021568395836\n"
     ]
    }
   ],
   "source": [
    "# weights\n",
    "W = [random.random(), random.random()]\n",
    "# bias\n",
    "b = random.random()\n",
    "\n",
    "print(f\"Weights: {W}, Bias: {b}\")\n",
    "\n",
    "# learning rate\n",
    "lr = 0.03\n",
    "theta = 0.5\n",
    "\n",
    "# sample data\n",
    "# X1 = []\n",
    "# X2 = []\n",
    "# Y = []\n",
    "\n",
    "# c = 50\n",
    "# while c > 0:\n",
    "#     r1 = random.randint(0, 100)\n",
    "#     r2 = random.randint(0, 100)\n",
    "#     X1.append(r1)\n",
    "#     X2.append(r2)\n",
    "#     if r1 > r2:\n",
    "#         Y.append(0)\n",
    "#     else:\n",
    "#         Y.append(1)\n",
    "#     c -= 1\n",
    "# print(len(X1), len(X2), Y)"
   ]
  },
  {
   "cell_type": "code",
   "execution_count": 71,
   "metadata": {},
   "outputs": [
    {
     "output_type": "error",
     "ename": "NameError",
     "evalue": "name 'savgol_filter' is not defined",
     "traceback": [
      "\u001b[0;31m---------------------------------------------------------------------------\u001b[0m",
      "\u001b[0;31mNameError\u001b[0m                                 Traceback (most recent call last)",
      "\u001b[0;32m<ipython-input-71-36659aaaa505>\u001b[0m in \u001b[0;36m<module>\u001b[0;34m\u001b[0m\n\u001b[1;32m     54\u001b[0m     \u001b[0mplt\u001b[0m\u001b[0;34m.\u001b[0m\u001b[0mplot\u001b[0m\u001b[0;34m(\u001b[0m\u001b[0mloss\u001b[0m\u001b[0;34m,\u001b[0m \u001b[0malpha\u001b[0m \u001b[0;34m=\u001b[0m \u001b[0;36m0.3\u001b[0m\u001b[0;34m)\u001b[0m\u001b[0;34m\u001b[0m\u001b[0;34m\u001b[0m\u001b[0m\n\u001b[1;32m     55\u001b[0m     \u001b[0;32mif\u001b[0m \u001b[0mepoch\u001b[0m \u001b[0;34m>\u001b[0m \u001b[0;36m10\u001b[0m\u001b[0;34m:\u001b[0m\u001b[0;34m\u001b[0m\u001b[0;34m\u001b[0m\u001b[0m\n\u001b[0;32m---> 56\u001b[0;31m         \u001b[0mavg\u001b[0m \u001b[0;34m=\u001b[0m \u001b[0msavgol_filter\u001b[0m\u001b[0;34m(\u001b[0m\u001b[0mloss\u001b[0m\u001b[0;34m,\u001b[0m \u001b[0;36m11\u001b[0m\u001b[0;34m,\u001b[0m \u001b[0;36m3\u001b[0m\u001b[0;34m)\u001b[0m\u001b[0;34m\u001b[0m\u001b[0;34m\u001b[0m\u001b[0m\n\u001b[0m\u001b[1;32m     57\u001b[0m         \u001b[0mplt\u001b[0m\u001b[0;34m.\u001b[0m\u001b[0mplot\u001b[0m\u001b[0;34m(\u001b[0m\u001b[0mavg\u001b[0m\u001b[0;34m,\u001b[0m \u001b[0;34m'r--'\u001b[0m\u001b[0;34m,\u001b[0m \u001b[0mlw\u001b[0m \u001b[0;34m=\u001b[0m \u001b[0;36m5\u001b[0m\u001b[0;34m)\u001b[0m\u001b[0;34m\u001b[0m\u001b[0;34m\u001b[0m\u001b[0m\n\u001b[1;32m     58\u001b[0m \u001b[0;34m\u001b[0m\u001b[0m\n",
      "\u001b[0;31mNameError\u001b[0m: name 'savgol_filter' is not defined"
     ]
    }
   ],
   "source": [
    "epoch = 0\n",
    "count = 0\n",
    "loss = []\n",
    "\n",
    "while count < len(X1):\n",
    "    total_err = 0\n",
    "    for i in range(len(X1)):\n",
    "        weighted_sum = W[0] * X1[i] + W[1] * X2[i] + b\n",
    "        pred = 0\n",
    "        if weighted_sum > theta:\n",
    "            pred = 1\n",
    "\n",
    "        error = Y[i] - pred\n",
    "        if error != 0:\n",
    "            count = 0\n",
    "            total_err += math.sqrt(error ** 2)\n",
    "\n",
    "            W[0] += lr * error * X1[i]\n",
    "            W[1] += lr * error * X2[i]\n",
    "            b += lr * error\n",
    "        else:\n",
    "            count += 1\n",
    "    \n",
    "    loss.append(1/4 * total_err)\n",
    "\n",
    "    plt.figure(figsize = (20, 5))\n",
    "    display.clear_output(wait = True)\n",
    "    plt.subplot(1, 2, 1)\n",
    "\n",
    "    for i in range(len(Y)):\n",
    "        if Y[i] == 0:\n",
    "            plt.plot(X1[i], X2[i], \"bo\")\n",
    "        else:\n",
    "            plt.plot(X1[i], X2[i], \"go\")\n",
    "\n",
    "    plt.xlim([-10, 120])\n",
    "    plt.ylim([-10, 120])\n",
    "        \n",
    "    xint = (theta - b) / W[0]\n",
    "    yint = (theta - b) / W[1]\n",
    "\n",
    "    slope = -yint / xint\n",
    "    x = plt.xlim()\n",
    "\n",
    "    # background coloring\n",
    "    # plt.fill_betweenx(x1 = 1, x2 = 50, y = [1, 50], color = 'r')\n",
    "\n",
    "    yeq = []\n",
    "    for i in x:\n",
    "        yeq.append(slope * i + yint)\n",
    "    plt.plot(x, yeq, 'r')\n",
    "\n",
    "    plt.subplot(1, 2, 2)\n",
    "    plt.plot(loss, alpha = 0.3)\n",
    "    if epoch > 10:\n",
    "        avg = savgol_filter(loss, 11, 3)\n",
    "        plt.plot(avg, 'r--', lw = 5)\n",
    "\n",
    "    plt.title(f\"Epoch = {epoch} Loss = {total_err}\")\n",
    "    plt.show()\n",
    "    epoch += 1"
   ]
  },
  {
   "cell_type": "code",
   "execution_count": null,
   "metadata": {},
   "outputs": [],
   "source": []
  }
 ]
}