{
  "nbformat": 4,
  "nbformat_minor": 0,
  "metadata": {
    "colab": {
      "name": "assignment_2.ipynb",
      "provenance": [],
      "collapsed_sections": []
    },
    "kernelspec": {
      "display_name": "Python 3",
      "name": "python3"
    },
    "language_info": {
      "name": "python"
    }
  },
  "cells": [
    {
      "cell_type": "code",
      "metadata": {
        "id": "mBhYWk87X6XR"
      },
      "source": [
        "import numpy as np\n",
        "import matplotlib.pyplot as plt\n",
        "import tensorflow as tf"
      ],
      "execution_count": null,
      "outputs": []
    },
    {
      "cell_type": "code",
      "metadata": {
        "colab": {
          "base_uri": "https://localhost:8080/"
        },
        "id": "uLS7XKwoYIvz",
        "outputId": "85a95402-af3d-416b-a4f5-66a7809c8b59"
      },
      "source": [
        "(X_train, Y_train), (X_test, Y_test) = tf.keras.datasets.cifar10.load_data()\n",
        "print(X_train.shape)"
      ],
      "execution_count": null,
      "outputs": [
        {
          "name": "stdout",
          "output_type": "stream",
          "text": [
            "(50000, 32, 32, 3)\n"
          ]
        }
      ]
    },
    {
      "cell_type": "code",
      "metadata": {
        "colab": {
          "base_uri": "https://localhost:8080/",
          "height": 884
        },
        "id": "n-a2kIBK2ylU",
        "outputId": "732b8895-111b-4f02-b38b-686c5d7e2608"
      },
      "source": [
        "accuracy = 0\n",
        "\n",
        "plt.figure()\n",
        "\n",
        "for k in range(1, 11):\n",
        "  l=0\n",
        "  for f in range(5):\n",
        "    # divide data into folds\n",
        "    validationX, validationY = X_train[f*10000:(f+1)*10000], Y_train[f*10000:(f+1)*10000]\n",
        "    trainX = np.concatenate((X_train[:f*10000], X_train[(f+1)*10000:]), axis = 0)\n",
        "    trainY = np.concatenate((Y_train[:f*10000], Y_train[(f+1)*10000:]), axis = 0)\n",
        "    cm = ce = 0         # c for correct, m for manhattan, e for euclidean\n",
        "\n",
        "    for i in range(len(validationX)):\n",
        "      man_distance = []\n",
        "      euc_distance = []\n",
        "\n",
        "      for j in range(len(trainX)):\n",
        "        # print(f, i, j)\n",
        "        # manhattan - calculating distance between two images\n",
        "        l1 = np.sum(np.absolute(np.subtract(validationX[i], trainX[j])))\n",
        "\n",
        "        # euclidean - calculation distance between two images\n",
        "        l2 = np.sqrt(np.sum((validationX[i] - trainX[j])**2))\n",
        "\n",
        "        man_distance.append([l1, trainY[j][0]])\n",
        "        euc_distance.append([l2, trainY[j][0]])\n",
        "        \n",
        "        if j == 500:\n",
        "            break\n",
        "\n",
        "      man_distance = np.array(man_distance)\n",
        "      man_distance = man_distance[man_distance[:, 0].argsort()]\n",
        "      euc_distance = np.array(euc_distance)\n",
        "      euc_distance = euc_distance[euc_distance[:, 0].argsort()]\n",
        "      # print(man_distance)\n",
        "      \n",
        "      # for manhattan distance\n",
        "      values = man_distance[:k, 1]\n",
        "      # print(values)\n",
        "      most_frequent_value = np.argmax(np.bincount(values.astype('int32')))\n",
        "      # print(most_frequent_value)\n",
        "      if most_frequent_value == validationY[i]:\n",
        "        cm += 1\n",
        "      # for euclidean distance\n",
        "      values = euc_distance[:k, 1]\n",
        "      most_frequent_value = np.argmax(np.bincount(values.astype('int32')))\n",
        "      if most_frequent_value == validationY[i]:\n",
        "        ce += 1\n",
        "\n",
        "      # print(man_distance[0][0], man_distance[-1][0])\n",
        "      # print(euc_distance[0], euc_distance[-1])\n",
        "\n",
        "      if i == 500:\n",
        "        break\n",
        "\n",
        "    print(\"cm: \", cm, \"ce: \", ce)\n",
        "    l += 10000\n",
        "\n",
        "# print(\"Manhattan distance: \", man_distance, \"Euclidean distance: \", euc_distance)"
      ],
      "execution_count": 75,
      "outputs": [
        {
          "output_type": "stream",
          "name": "stdout",
          "text": [
            "cm:  89 ce:  90\n",
            "cm:  91 ce:  94\n",
            "cm:  96 ce:  72\n",
            "cm:  92 ce:  83\n",
            "cm:  95 ce:  78\n",
            "cm:  86 ce:  75\n",
            "cm:  84 ce:  73\n",
            "cm:  94 ce:  72\n",
            "cm:  90 ce:  82\n",
            "cm:  93 ce:  63\n",
            "cm:  91 ce:  68\n",
            "cm:  88 ce:  78\n",
            "cm:  95 ce:  77\n",
            "cm:  94 ce:  81\n",
            "cm:  100 ce:  70\n",
            "cm:  94 ce:  80\n",
            "cm:  91 ce:  86\n",
            "cm:  90 ce:  76\n",
            "cm:  85 ce:  87\n",
            "cm:  103 ce:  66\n",
            "cm:  92 ce:  81\n",
            "cm:  97 ce:  89\n",
            "cm:  86 ce:  78\n",
            "cm:  90 ce:  82\n",
            "cm:  105 ce:  79\n",
            "cm:  96 ce:  91\n",
            "cm:  93 ce:  88\n",
            "cm:  85 ce:  77\n",
            "cm:  96 ce:  82\n",
            "cm:  102 ce:  79\n",
            "cm:  97 ce:  85\n",
            "cm:  104 ce:  91\n",
            "cm:  90 ce:  71\n",
            "cm:  89 ce:  81\n",
            "cm:  104 ce:  70\n",
            "cm:  100 ce:  91\n",
            "cm:  96 ce:  89\n",
            "cm:  90 ce:  69\n",
            "cm:  92 ce:  79\n",
            "cm:  101 ce:  76\n",
            "cm:  94 ce:  86\n",
            "cm:  94 ce:  90\n",
            "cm:  92 ce:  71\n",
            "cm:  89 ce:  89\n",
            "cm:  100 ce:  88\n",
            "cm:  103 ce:  85\n",
            "cm:  93 ce:  88\n",
            "cm:  87 ce:  77\n",
            "cm:  92 ce:  85\n",
            "cm:  106 ce:  94\n"
          ]
        },
        {
          "output_type": "display_data",
          "data": {
            "text/plain": [
              "<Figure size 432x288 with 0 Axes>"
            ]
          },
          "metadata": {}
        }
      ]
    }
  ]
}