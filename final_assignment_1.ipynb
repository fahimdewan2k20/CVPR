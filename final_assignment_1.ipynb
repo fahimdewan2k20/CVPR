{
 "metadata": {
  "language_info": {
   "codemirror_mode": {
    "name": "ipython",
    "version": 3
   },
   "file_extension": ".py",
   "mimetype": "text/x-python",
   "name": "python",
   "nbconvert_exporter": "python",
   "pygments_lexer": "ipython3",
   "version": "3.8.8-final"
  },
  "orig_nbformat": 2,
  "kernelspec": {
   "name": "python3",
   "display_name": "Python 3.8.8 64-bit ('base': conda)",
   "metadata": {
    "interpreter": {
     "hash": "db9a6fdfe0873fc94892343008d5bd195e2056ce6d00c33e193bcc9857f28df4"
    }
   }
  }
 },
 "nbformat": 4,
 "nbformat_minor": 2,
 "cells": [
  {
   "cell_type": "code",
   "execution_count": 13,
   "metadata": {},
   "outputs": [],
   "source": [
    "import os\n",
    "import cv2\n",
    "import random\n",
    "import pickle\n",
    "from tqdm import tqdm\n",
    "import numpy as np\n",
    "import matplotlib.pyplot as plt"
   ]
  },
  {
   "cell_type": "code",
   "execution_count": 14,
   "metadata": {},
   "outputs": [],
   "source": [
    "DATA_DIR = './cats and dogs'\n",
    "TRAIN_DATA_DIR = os.path.join(DATA_DIR, 'training_set/training_set')\n",
    "TEST_DATA_DIR = os.path.join(DATA_DIR, 'test_set/test_set')"
   ]
  },
  {
   "cell_type": "code",
   "execution_count": 15,
   "metadata": {
    "tags": []
   },
   "outputs": [
    {
     "output_type": "stream",
     "name": "stdout",
     "text": [
      "['dogs', 'cats', '.DS_Store']\n['dogs', 'cats']\n"
     ]
    }
   ],
   "source": [
    "CATEGORIES = []\n",
    "\n",
    "for i in os.listdir(TRAIN_DATA_DIR):\n",
    "    CATEGORIES.append(i)\n",
    "    \n",
    "print(CATEGORIES)\n",
    "CATEGORIES.pop(-1)\n",
    "print(CATEGORIES)"
   ]
  },
  {
   "cell_type": "code",
   "execution_count": 16,
   "metadata": {},
   "outputs": [],
   "source": [
    "X_train = []\n",
    "i=0\n",
    "for c in CATEGORIES:  \n",
    "    path = os.path.join(TRAIN_DATA_DIR,c)\n",
    "    for img in os.listdir(path):\n",
    "        X_train = cv2.imread(os.path.join(path,img))\n",
    "        i += 1"
   ]
  },
  {
   "cell_type": "code",
   "execution_count": 17,
   "metadata": {},
   "outputs": [
    {
     "output_type": "stream",
     "name": "stdout",
     "text": [
      "[104.02513514 107.86722297 106.61960135]\n"
     ]
    }
   ],
   "source": [
    "mean_rgb = np.mean(X_train, axis=(0,1))\n",
    "print(mean_rgb)"
   ]
  },
  {
   "cell_type": "code",
   "execution_count": 18,
   "metadata": {},
   "outputs": [],
   "source": [
    "X_train_norm = np.empty_like(X_train)\n",
    "for i in range(len(X_train)):\n",
    "    for c in range(3):\n",
    "        if(c==1):\n",
    "            X_train_norm[i, :, c] = X_train[i, :, c] - mean_rgb[0]\n",
    "        elif(c==2):\n",
    "            X_train_norm[i, :, c] = X_train[i, :, c] - mean_rgb[1]\n",
    "        else:\n",
    "            X_train_norm[i, :, c] = X_train[i, :, c] - mean_rgb[2]"
   ]
  },
  {
   "cell_type": "code",
   "execution_count": 19,
   "metadata": {},
   "outputs": [
    {
     "output_type": "display_data",
     "data": {
      "text/plain": "<Figure size 432x288 with 10 Axes>",
      "image/svg+xml": "<?xml version=\"1.0\" encoding=\"utf-8\" standalone=\"no\"?>\n<!DOCTYPE svg PUBLIC \"-//W3C//DTD SVG 1.1//EN\"\n  \"http://www.w3.org/Graphics/SVG/1.1/DTD/svg11.dtd\">\n<!-- Created with matplotlib (https://matplotlib.org/) -->\n<svg height=\"280.8pt\" version=\"1.1\" viewBox=\"0 0 154.5184 280.8\" width=\"154.5184pt\" xmlns=\"http://www.w3.org/2000/svg\" xmlns:xlink=\"http://www.w3.org/1999/xlink\">\n <metadata>\n  <rdf:RDF xmlns:cc=\"http://creativecommons.org/ns#\" xmlns:dc=\"http://purl.org/dc/elements/1.1/\" xmlns:rdf=\"http://www.w3.org/1999/02/22-rdf-syntax-ns#\">\n   <cc:Work>\n    <dc:type rdf:resource=\"http://purl.org/dc/dcmitype/StillImage\"/>\n    <dc:date>2021-11-09T15:33:36.551108</dc:date>\n    <dc:format>image/svg+xml</dc:format>\n    <dc:creator>\n     <cc:Agent>\n      <dc:title>Matplotlib v3.3.4, https://matplotlib.org/</dc:title>\n     </cc:Agent>\n    </dc:creator>\n   </cc:Work>\n  </rdf:RDF>\n </metadata>\n <defs>\n  <style type=\"text/css\">*{stroke-linecap:butt;stroke-linejoin:round;}</style>\n </defs>\n <g id=\"figure_1\">\n  <g id=\"patch_1\">\n   <path d=\"M 0 280.8 \nL 154.5184 280.8 \nL 154.5184 0 \nL 0 0 \nz\n\" style=\"fill:none;\"/>\n  </g>\n  <g id=\"axes_1\">\n   <g id=\"patch_2\">\n    <path d=\"M 10.7 48.34 \nL 10.94684 48.34 \nL 10.94684 7.2 \nL 10.7 7.2 \nz\n\" style=\"fill:#ffffff;\"/>\n   </g>\n   <g clip-path=\"url(#pa7d414c5b4)\">\n    <image height=\"42\" id=\"image21e226f419\" transform=\"scale(1 -1)translate(0 -42)\" width=\"1\" x=\"10.7\" xlink:href=\"data:image/png;base64,\niVBORw0KGgoAAAANSUhEUgAAAAEAAAAqCAYAAAByfjF8AAAAnUlEQVR4nC3EsVHDQBRAwad30pw8mEEDZDh0G8RUQgm0QyuUAhFETmRLSL7RPxI2WF7uX6txPODXGzjsf/E2r3jTXvEhT7hLBYduxsfujEOa/5PA1ARuVXz/fsaggY/PY/UpXTA3YAIEsACWCk61xagNbjS41BanyLjUDufIeNr2uEaH563HUhP+LHe4Rotj6XFcexyXjONlh3HK/AGGhD4GMD9LQQAAAABJRU5ErkJggg==\" y=\"-6.34\"/>\n   </g>\n   <g id=\"matplotlib.axis_1\"/>\n   <g id=\"matplotlib.axis_2\"/>\n   <g id=\"patch_3\">\n    <path d=\"M 10.7 48.34 \nL 10.7 7.2 \n\" style=\"fill:none;stroke:#000000;stroke-linecap:square;stroke-linejoin:miter;stroke-width:0.8;\"/>\n   </g>\n   <g id=\"patch_4\">\n    <path d=\"M 10.94684 48.34 \nL 10.94684 7.2 \n\" style=\"fill:none;stroke:#000000;stroke-linecap:square;stroke-linejoin:miter;stroke-width:0.8;\"/>\n   </g>\n   <g id=\"patch_5\">\n    <path d=\"M 10.7 48.34 \nL 10.94684 48.34 \n\" style=\"fill:none;stroke:#000000;stroke-linecap:square;stroke-linejoin:miter;stroke-width:0.8;\"/>\n   </g>\n   <g id=\"patch_6\">\n    <path d=\"M 10.7 7.2 \nL 10.94684 7.2 \n\" style=\"fill:none;stroke:#000000;stroke-linecap:square;stroke-linejoin:miter;stroke-width:0.8;\"/>\n   </g>\n  </g>\n  <g id=\"axes_2\">\n   <g id=\"patch_7\">\n    <path d=\"M 147.07156 48.34 \nL 147.3184 48.34 \nL 147.3184 7.2 \nL 147.07156 7.2 \nz\n\" style=\"fill:#ffffff;\"/>\n   </g>\n   <g clip-path=\"url(#p095ed193fc)\">\n    <image height=\"42\" id=\"image6a233c8aa7\" transform=\"scale(1 -1)translate(0 -42)\" width=\"1\" x=\"147.07156\" xlink:href=\"data:image/png;base64,\niVBORw0KGgoAAAANSUhEUgAAAAEAAAAqCAYAAAByfjF8AAAAfklEQVR4nFXLKw4CURAF0eqaeYEgEDg0+yJhOSwNyw7QKBLE8OnXmIEEc0XlXPanQ3m+bnFzXCERmAuxNzGXYg1gtsDeArOBNYIVIAFS4PryRgBvu4a5YP7CbwqMDkb+NROkg2bNxNfXmTW7cSqMXuizcHh0HKY3DvcHxvTiA57IMDegzCx2AAAAAElFTkSuQmCC\" y=\"-6.34\"/>\n   </g>\n   <g id=\"matplotlib.axis_3\"/>\n   <g id=\"matplotlib.axis_4\"/>\n   <g id=\"patch_8\">\n    <path d=\"M 147.07156 48.34 \nL 147.07156 7.2 \n\" style=\"fill:none;stroke:#000000;stroke-linecap:square;stroke-linejoin:miter;stroke-width:0.8;\"/>\n   </g>\n   <g id=\"patch_9\">\n    <path d=\"M 147.3184 48.34 \nL 147.3184 7.2 \n\" style=\"fill:none;stroke:#000000;stroke-linecap:square;stroke-linejoin:miter;stroke-width:0.8;\"/>\n   </g>\n   <g id=\"patch_10\">\n    <path d=\"M 147.07156 48.34 \nL 147.3184 48.34 \n\" style=\"fill:none;stroke:#000000;stroke-linecap:square;stroke-linejoin:miter;stroke-width:0.8;\"/>\n   </g>\n   <g id=\"patch_11\">\n    <path d=\"M 147.07156 7.2 \nL 147.3184 7.2 \n\" style=\"fill:none;stroke:#000000;stroke-linecap:square;stroke-linejoin:miter;stroke-width:0.8;\"/>\n   </g>\n  </g>\n  <g id=\"axes_3\">\n   <g id=\"patch_12\">\n    <path d=\"M 10.7 103.78 \nL 10.94684 103.78 \nL 10.94684 62.64 \nL 10.7 62.64 \nz\n\" style=\"fill:#ffffff;\"/>\n   </g>\n   <g clip-path=\"url(#p089d475d98)\">\n    <image height=\"42\" id=\"image34324b8a5f\" transform=\"scale(1 -1)translate(0 -42)\" width=\"1\" x=\"10.7\" xlink:href=\"data:image/png;base64,\niVBORw0KGgoAAAANSUhEUgAAAAEAAAAqCAYAAAByfjF8AAAAo0lEQVR4nC3KSy4EQQCA4b//fs3ooUfiBGLvBLauYS9xFhdwGhfBRqwmIulXlaqy8a0/7g8PxXR7g+9P4HC24dAHHNqAY7/g0AQc2wUvmxnHZsZzV9wZMZUKXz7usH6+wjiI+8dPeH27Lh7dUApmKkxUGIs4lQ5jqTEVMVLjlHtcc4tz7vH0e8A5d7ik9j9/rRcYUoPf2x6n0OHPtMO4NVjWmj/AXEECT/8iTQAAAABJRU5ErkJggg==\" y=\"-61.78\"/>\n   </g>\n   <g id=\"matplotlib.axis_5\"/>\n   <g id=\"matplotlib.axis_6\"/>\n   <g id=\"patch_13\">\n    <path d=\"M 10.7 103.78 \nL 10.7 62.64 \n\" style=\"fill:none;stroke:#000000;stroke-linecap:square;stroke-linejoin:miter;stroke-width:0.8;\"/>\n   </g>\n   <g id=\"patch_14\">\n    <path d=\"M 10.94684 103.78 \nL 10.94684 62.64 \n\" style=\"fill:none;stroke:#000000;stroke-linecap:square;stroke-linejoin:miter;stroke-width:0.8;\"/>\n   </g>\n   <g id=\"patch_15\">\n    <path d=\"M 10.7 103.78 \nL 10.94684 103.78 \n\" style=\"fill:none;stroke:#000000;stroke-linecap:square;stroke-linejoin:miter;stroke-width:0.8;\"/>\n   </g>\n   <g id=\"patch_16\">\n    <path d=\"M 10.7 62.64 \nL 10.94684 62.64 \n\" style=\"fill:none;stroke:#000000;stroke-linecap:square;stroke-linejoin:miter;stroke-width:0.8;\"/>\n   </g>\n  </g>\n  <g id=\"axes_4\">\n   <g id=\"patch_17\">\n    <path d=\"M 147.07156 103.78 \nL 147.3184 103.78 \nL 147.3184 62.64 \nL 147.07156 62.64 \nz\n\" style=\"fill:#ffffff;\"/>\n   </g>\n   <g clip-path=\"url(#p344fcce90a)\">\n    <image height=\"42\" id=\"image58ade173c0\" transform=\"scale(1 -1)translate(0 -42)\" width=\"1\" x=\"147.07156\" xlink:href=\"data:image/png;base64,\niVBORw0KGgoAAAANSUhEUgAAAAEAAAAqCAYAAAByfjF8AAAAgUlEQVR4nFWKsQ3CQBAEZ/cNJkaCRiiDmJyIRogIaIsGiOiBFMnW83cE2Egkox3Ncrid0o/nFm8uPU4LR19wLIzbSjiKcCyE21I4OiakwcC3cr7v00UBu+M1Pa7nMwKTM5RgtX8NsFr+FtgV7JaTKsDdEJOWoWG/E3evijVWrKHyAWYqNP1l7pxXAAAAAElFTkSuQmCC\" y=\"-61.78\"/>\n   </g>\n   <g id=\"matplotlib.axis_7\"/>\n   <g id=\"matplotlib.axis_8\"/>\n   <g id=\"patch_18\">\n    <path d=\"M 147.07156 103.78 \nL 147.07156 62.64 \n\" style=\"fill:none;stroke:#000000;stroke-linecap:square;stroke-linejoin:miter;stroke-width:0.8;\"/>\n   </g>\n   <g id=\"patch_19\">\n    <path d=\"M 147.3184 103.78 \nL 147.3184 62.64 \n\" style=\"fill:none;stroke:#000000;stroke-linecap:square;stroke-linejoin:miter;stroke-width:0.8;\"/>\n   </g>\n   <g id=\"patch_20\">\n    <path d=\"M 147.07156 103.78 \nL 147.3184 103.78 \n\" style=\"fill:none;stroke:#000000;stroke-linecap:square;stroke-linejoin:miter;stroke-width:0.8;\"/>\n   </g>\n   <g id=\"patch_21\">\n    <path d=\"M 147.07156 62.64 \nL 147.3184 62.64 \n\" style=\"fill:none;stroke:#000000;stroke-linecap:square;stroke-linejoin:miter;stroke-width:0.8;\"/>\n   </g>\n  </g>\n  <g id=\"axes_5\">\n   <g id=\"patch_22\">\n    <path d=\"M 10.7 159.22 \nL 10.94684 159.22 \nL 10.94684 118.08 \nL 10.7 118.08 \nz\n\" style=\"fill:#ffffff;\"/>\n   </g>\n   <g clip-path=\"url(#p338c99957d)\">\n    <image height=\"42\" id=\"imageb042b9df72\" transform=\"scale(1 -1)translate(0 -42)\" width=\"1\" x=\"10.7\" xlink:href=\"data:image/png;base64,\niVBORw0KGgoAAAANSUhEUgAAAAEAAAAqCAYAAAByfjF8AAAAqElEQVR4nDXIMVLCQABA0Z9PNkAGEGYovIEFrWNl7TU8gQfSs1jb2lpYWeFQME50TbK4a6Pdm8fN4raYri5wfzfgct7j2bTHth5x03zjOkTchIjbusP1JGLrgAA+fuzw6f4St88dUgoedyt4eLkuvL6dF0MFzqoKM+BYCsZSYSriD//q8gzHMsEuz/FwWv5dyjXG3OD7sMKvU4OHfoExBTx+tjgOAXOSXxN8Q2G8VZQkAAAAAElFTkSuQmCC\" y=\"-117.22\"/>\n   </g>\n   <g id=\"matplotlib.axis_9\"/>\n   <g id=\"matplotlib.axis_10\"/>\n   <g id=\"patch_23\">\n    <path d=\"M 10.7 159.22 \nL 10.7 118.08 \n\" style=\"fill:none;stroke:#000000;stroke-linecap:square;stroke-linejoin:miter;stroke-width:0.8;\"/>\n   </g>\n   <g id=\"patch_24\">\n    <path d=\"M 10.94684 159.22 \nL 10.94684 118.08 \n\" style=\"fill:none;stroke:#000000;stroke-linecap:square;stroke-linejoin:miter;stroke-width:0.8;\"/>\n   </g>\n   <g id=\"patch_25\">\n    <path d=\"M 10.7 159.22 \nL 10.94684 159.22 \n\" style=\"fill:none;stroke:#000000;stroke-linecap:square;stroke-linejoin:miter;stroke-width:0.8;\"/>\n   </g>\n   <g id=\"patch_26\">\n    <path d=\"M 10.7 118.08 \nL 10.94684 118.08 \n\" style=\"fill:none;stroke:#000000;stroke-linecap:square;stroke-linejoin:miter;stroke-width:0.8;\"/>\n   </g>\n  </g>\n  <g id=\"axes_6\">\n   <g id=\"patch_27\">\n    <path d=\"M 147.07156 159.22 \nL 147.3184 159.22 \nL 147.3184 118.08 \nL 147.07156 118.08 \nz\n\" style=\"fill:#ffffff;\"/>\n   </g>\n   <g clip-path=\"url(#p52471b85c0)\">\n    <image height=\"42\" id=\"image571b91192d\" transform=\"scale(1 -1)translate(0 -42)\" width=\"1\" x=\"147.07156\" xlink:href=\"data:image/png;base64,\niVBORw0KGgoAAAANSUhEUgAAAAEAAAAqCAYAAAByfjF8AAAAh0lEQVR4nFWMuQ3CQADAfE4iAiUwAyW70FJQswljsAwVEjNkA6DgUXS5O5qkoLEsF2Z3ORa75xJXpzkSAqa2wtyIaRYwNwFTM1muwVKBALb3jI/9Cw+bK6Yidt813s5bHBYBiyCClAkmkDxdQgYdymghgca/ZgKrPo+t/iQMMWP1jmgfkTjwA6DGNjXnp9QpAAAAAElFTkSuQmCC\" y=\"-117.22\"/>\n   </g>\n   <g id=\"matplotlib.axis_11\"/>\n   <g id=\"matplotlib.axis_12\"/>\n   <g id=\"patch_28\">\n    <path d=\"M 147.07156 159.22 \nL 147.07156 118.08 \n\" style=\"fill:none;stroke:#000000;stroke-linecap:square;stroke-linejoin:miter;stroke-width:0.8;\"/>\n   </g>\n   <g id=\"patch_29\">\n    <path d=\"M 147.3184 159.22 \nL 147.3184 118.08 \n\" style=\"fill:none;stroke:#000000;stroke-linecap:square;stroke-linejoin:miter;stroke-width:0.8;\"/>\n   </g>\n   <g id=\"patch_30\">\n    <path d=\"M 147.07156 159.22 \nL 147.3184 159.22 \n\" style=\"fill:none;stroke:#000000;stroke-linecap:square;stroke-linejoin:miter;stroke-width:0.8;\"/>\n   </g>\n   <g id=\"patch_31\">\n    <path d=\"M 147.07156 118.08 \nL 147.3184 118.08 \n\" style=\"fill:none;stroke:#000000;stroke-linecap:square;stroke-linejoin:miter;stroke-width:0.8;\"/>\n   </g>\n  </g>\n  <g id=\"axes_7\">\n   <g id=\"patch_32\">\n    <path d=\"M 10.7 214.66 \nL 10.94684 214.66 \nL 10.94684 173.52 \nL 10.7 173.52 \nz\n\" style=\"fill:#ffffff;\"/>\n   </g>\n   <g clip-path=\"url(#p240e54960d)\">\n    <image height=\"42\" id=\"imageaafdd7e663\" transform=\"scale(1 -1)translate(0 -42)\" width=\"1\" x=\"10.7\" xlink:href=\"data:image/png;base64,\niVBORw0KGgoAAAANSUhEUgAAAAEAAAAqCAYAAAByfjF8AAAAqklEQVR4nC3MOU7DQABA0e9vO87mSEQICYq0dFyDW9DnDpyB43AVinQUUASxKAme8WAPBTSvfNxebLPxZoOv24jLWcS2ibioe1zVAdeTE66qgOf1AVsDtmWHKVdwff+Q3Tx+oS97LGZTTFdnuLtr4On5MtsWGRNgyuBAgd9jhSFXCGBPiYdx+pf6Ocz/+fhZ4JDF49Dgez/HY2rwrVtil2o8hQnGrsYxlvwCw/xBg8w9qisAAAAASUVORK5CYII=\" y=\"-172.66\"/>\n   </g>\n   <g id=\"matplotlib.axis_13\"/>\n   <g id=\"matplotlib.axis_14\"/>\n   <g id=\"patch_33\">\n    <path d=\"M 10.7 214.66 \nL 10.7 173.52 \n\" style=\"fill:none;stroke:#000000;stroke-linecap:square;stroke-linejoin:miter;stroke-width:0.8;\"/>\n   </g>\n   <g id=\"patch_34\">\n    <path d=\"M 10.94684 214.66 \nL 10.94684 173.52 \n\" style=\"fill:none;stroke:#000000;stroke-linecap:square;stroke-linejoin:miter;stroke-width:0.8;\"/>\n   </g>\n   <g id=\"patch_35\">\n    <path d=\"M 10.7 214.66 \nL 10.94684 214.66 \n\" style=\"fill:none;stroke:#000000;stroke-linecap:square;stroke-linejoin:miter;stroke-width:0.8;\"/>\n   </g>\n   <g id=\"patch_36\">\n    <path d=\"M 10.7 173.52 \nL 10.94684 173.52 \n\" style=\"fill:none;stroke:#000000;stroke-linecap:square;stroke-linejoin:miter;stroke-width:0.8;\"/>\n   </g>\n  </g>\n  <g id=\"axes_8\">\n   <g id=\"patch_37\">\n    <path d=\"M 147.07156 214.66 \nL 147.3184 214.66 \nL 147.3184 173.52 \nL 147.07156 173.52 \nz\n\" style=\"fill:#ffffff;\"/>\n   </g>\n   <g clip-path=\"url(#p5646476eb4)\">\n    <image height=\"42\" id=\"image7de7794f00\" transform=\"scale(1 -1)translate(0 -42)\" width=\"1\" x=\"147.07156\" xlink:href=\"data:image/png;base64,\niVBORw0KGgoAAAANSUhEUgAAAAEAAAAqCAYAAAByfjF8AAAAk0lEQVR4nDWNwU1CQRQA540LIpylA0IdxgpMLMI+6INCOFOABViA8QgB9P/dfV4+l8kkcxjejh/peVhg263RoWFbFOyzwD4X22NgL4FtHtgLEyLB0+sF37ef+HV5xlUZcLP8wf3hBZ++xSxgdJC8wwZGAzPu1ZqTRQUfRtAxp1G0xPKbGDVxdq0YY0dvFb3+YQwj/1caOy8dx3QPAAAAAElFTkSuQmCC\" y=\"-172.66\"/>\n   </g>\n   <g id=\"matplotlib.axis_15\"/>\n   <g id=\"matplotlib.axis_16\"/>\n   <g id=\"patch_38\">\n    <path d=\"M 147.07156 214.66 \nL 147.07156 173.52 \n\" style=\"fill:none;stroke:#000000;stroke-linecap:square;stroke-linejoin:miter;stroke-width:0.8;\"/>\n   </g>\n   <g id=\"patch_39\">\n    <path d=\"M 147.3184 214.66 \nL 147.3184 173.52 \n\" style=\"fill:none;stroke:#000000;stroke-linecap:square;stroke-linejoin:miter;stroke-width:0.8;\"/>\n   </g>\n   <g id=\"patch_40\">\n    <path d=\"M 147.07156 214.66 \nL 147.3184 214.66 \n\" style=\"fill:none;stroke:#000000;stroke-linecap:square;stroke-linejoin:miter;stroke-width:0.8;\"/>\n   </g>\n   <g id=\"patch_41\">\n    <path d=\"M 147.07156 173.52 \nL 147.3184 173.52 \n\" style=\"fill:none;stroke:#000000;stroke-linecap:square;stroke-linejoin:miter;stroke-width:0.8;\"/>\n   </g>\n  </g>\n  <g id=\"axes_9\">\n   <g id=\"patch_42\">\n    <path d=\"M 10.7 270.1 \nL 10.94684 270.1 \nL 10.94684 228.96 \nL 10.7 228.96 \nz\n\" style=\"fill:#ffffff;\"/>\n   </g>\n   <g clip-path=\"url(#pdf965e267e)\">\n    <image height=\"42\" id=\"imagedbffe1dcf1\" transform=\"scale(1 -1)translate(0 -42)\" width=\"1\" x=\"10.7\" xlink:href=\"data:image/png;base64,\niVBORw0KGgoAAAANSUhEUgAAAAEAAAAqCAYAAAByfjF8AAAApElEQVR4nC3KQS4EQQBA0d+/q3qmjSYRiY3F7CRi6wzu4QAcT+IwXEA008yULtVl460fd6f31XK9xdfHBofjAw6rGY/ijCddwrNuj0NIeB4nHEwYm4JPbzf49XCB7TghZUFyRkLA3e0lPL9cVbfhEwEsNJirmGqLqQYsiLm2+L2sMNWIU+nxvWxwzJv/Mv2u8WPucZfXOKYeD3PEfeow/wRccssfCFpAq7j8oFkAAAAASUVORK5CYII=\" y=\"-228.1\"/>\n   </g>\n   <g id=\"matplotlib.axis_17\"/>\n   <g id=\"matplotlib.axis_18\"/>\n   <g id=\"patch_43\">\n    <path d=\"M 10.7 270.1 \nL 10.7 228.96 \n\" style=\"fill:none;stroke:#000000;stroke-linecap:square;stroke-linejoin:miter;stroke-width:0.8;\"/>\n   </g>\n   <g id=\"patch_44\">\n    <path d=\"M 10.94684 270.1 \nL 10.94684 228.96 \n\" style=\"fill:none;stroke:#000000;stroke-linecap:square;stroke-linejoin:miter;stroke-width:0.8;\"/>\n   </g>\n   <g id=\"patch_45\">\n    <path d=\"M 10.7 270.1 \nL 10.94684 270.1 \n\" style=\"fill:none;stroke:#000000;stroke-linecap:square;stroke-linejoin:miter;stroke-width:0.8;\"/>\n   </g>\n   <g id=\"patch_46\">\n    <path d=\"M 10.7 228.96 \nL 10.94684 228.96 \n\" style=\"fill:none;stroke:#000000;stroke-linecap:square;stroke-linejoin:miter;stroke-width:0.8;\"/>\n   </g>\n  </g>\n  <g id=\"axes_10\">\n   <g id=\"patch_47\">\n    <path d=\"M 147.07156 270.1 \nL 147.3184 270.1 \nL 147.3184 228.96 \nL 147.07156 228.96 \nz\n\" style=\"fill:#ffffff;\"/>\n   </g>\n   <g clip-path=\"url(#pf29bdde09a)\">\n    <image height=\"42\" id=\"imagebec6376b91\" transform=\"scale(1 -1)translate(0 -42)\" width=\"1\" x=\"147.07156\" xlink:href=\"data:image/png;base64,\niVBORw0KGgoAAAANSUhEUgAAAAEAAAAqCAYAAAByfjF8AAAAhklEQVR4nFWKsXXCQBTA9HU2LihJwRKMwgSMwBTZKxUzJFvQ5b3k2Xf3j8oFjQpJXB/34W9d0M8TWjvmUjAnsS87cg7sBzCnwBFgOwZebt84R2ISuPYJJzv+PM/Yvj4wZxDAGCADjASjvznb2EMDSx1o3RfbwLImWgeWv4ZuHV0bxv+GURsvDMU5L1QB1qkAAAAASUVORK5CYII=\" y=\"-228.1\"/>\n   </g>\n   <g id=\"matplotlib.axis_19\"/>\n   <g id=\"matplotlib.axis_20\"/>\n   <g id=\"patch_48\">\n    <path d=\"M 147.07156 270.1 \nL 147.07156 228.96 \n\" style=\"fill:none;stroke:#000000;stroke-linecap:square;stroke-linejoin:miter;stroke-width:0.8;\"/>\n   </g>\n   <g id=\"patch_49\">\n    <path d=\"M 147.3184 270.1 \nL 147.3184 228.96 \n\" style=\"fill:none;stroke:#000000;stroke-linecap:square;stroke-linejoin:miter;stroke-width:0.8;\"/>\n   </g>\n   <g id=\"patch_50\">\n    <path d=\"M 147.07156 270.1 \nL 147.3184 270.1 \n\" style=\"fill:none;stroke:#000000;stroke-linecap:square;stroke-linejoin:miter;stroke-width:0.8;\"/>\n   </g>\n   <g id=\"patch_51\">\n    <path d=\"M 147.07156 228.96 \nL 147.3184 228.96 \n\" style=\"fill:none;stroke:#000000;stroke-linecap:square;stroke-linejoin:miter;stroke-width:0.8;\"/>\n   </g>\n  </g>\n </g>\n <defs>\n  <clipPath id=\"pa7d414c5b4\">\n   <rect height=\"41.14\" width=\"0.24684\" x=\"10.7\" y=\"7.2\"/>\n  </clipPath>\n  <clipPath id=\"p095ed193fc\">\n   <rect height=\"41.14\" width=\"0.24684\" x=\"147.07156\" y=\"7.2\"/>\n  </clipPath>\n  <clipPath id=\"p089d475d98\">\n   <rect height=\"41.14\" width=\"0.24684\" x=\"10.7\" y=\"62.64\"/>\n  </clipPath>\n  <clipPath id=\"p344fcce90a\">\n   <rect height=\"41.14\" width=\"0.24684\" x=\"147.07156\" y=\"62.64\"/>\n  </clipPath>\n  <clipPath id=\"p338c99957d\">\n   <rect height=\"41.14\" width=\"0.24684\" x=\"10.7\" y=\"118.08\"/>\n  </clipPath>\n  <clipPath id=\"p52471b85c0\">\n   <rect height=\"41.14\" width=\"0.24684\" x=\"147.07156\" y=\"118.08\"/>\n  </clipPath>\n  <clipPath id=\"p240e54960d\">\n   <rect height=\"41.14\" width=\"0.24684\" x=\"10.7\" y=\"173.52\"/>\n  </clipPath>\n  <clipPath id=\"p5646476eb4\">\n   <rect height=\"41.14\" width=\"0.24684\" x=\"147.07156\" y=\"173.52\"/>\n  </clipPath>\n  <clipPath id=\"pdf965e267e\">\n   <rect height=\"41.14\" width=\"0.24684\" x=\"10.7\" y=\"228.96\"/>\n  </clipPath>\n  <clipPath id=\"pf29bdde09a\">\n   <rect height=\"41.14\" width=\"0.24684\" x=\"147.07156\" y=\"228.96\"/>\n  </clipPath>\n </defs>\n</svg>\n",
      "image/png": "[encoded data removed]"
     },
     "metadata": {}
    }
   ],
   "source": [
    "c = 0\n",
    "for i in range(5):\n",
    "    plt.subplot(5,2,c+1)\n",
    "    plt.imshow(X_train[i].astype('uint8'))\n",
    "    plt.xticks([])\n",
    "    plt.yticks([])\n",
    "    \n",
    "    plt.subplot(5,2,c+2)\n",
    "    plt.imshow(X_train_norm[i].astype('uint8'))\n",
    "    plt.xticks([])\n",
    "    plt.yticks([])\n",
    "\n",
    "    c += 2\n",
    "    \n",
    "plt.tight_layout()\n",
    "plt.show()"
   ]
  },
  {
   "cell_type": "code",
   "execution_count": null,
   "metadata": {},
   "outputs": [],
   "source": [
    "model = keras.Sequential([\n",
    "    keras.Input(shape=X_train_norm.shape[1:]),\n",
    "    \n",
    "    layers.Conv2D(filters=64, kernel_size=(3,3), strides=(1,1), padding='same'),\n",
    "    layers.Activation('relu'),\n",
    "    layers.Conv2D(filters=64, kernel_size=(3,3), strides=(1,1), padding='same'),\n",
    "    layers.Activation('relu'),\n",
    "    layers.MaxPooling2D(pool_size=(2,2), strides=(2,2), padding='valid'),\n",
    "    \n",
    "    \n",
    "    layers.Conv2D(filters=128, kernel_size=(3,3), strides=(1,1), padding='same'),\n",
    "    layers.Activation('relu'),\n",
    "    layers.Conv2D(filters=128, kernel_size=(3,3), strides=(1,1), padding='same'),\n",
    "    layers.Activation('relu'),\n",
    "    layers.MaxPooling2D(pool_size=(2,2), strides=(2,2), padding='valid'),\n",
    "\n",
    "    layers.Flatten(),\n",
    "\n",
    "    layers.Dense(units=4096),\n",
    "    layers.Activation('relu'),\n",
    "    layers.Dropout(0.5),\n",
    "\n",
    "    layers.Dense(10),\n",
    "    layers.Activation('softmax')\n",
    "])\n",
    "\n",
    "model.summary()"
   ]
  }
 ]
}